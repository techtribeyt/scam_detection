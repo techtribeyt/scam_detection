{
 "cells": [
  {
   "cell_type": "markdown",
   "id": "30596f01",
   "metadata": {},
   "source": [
    "### Imports"
   ]
  },
  {
   "cell_type": "markdown",
   "id": "8f354d4e",
   "metadata": {},
   "source": [
    "Make sure to save a file named api_key.txt in your code directory with your API key to use the YouTube API. You can get this from https://console.cloud.google.com/. Instructions: https://blog.hubspot.com/website/how-to-get-youtube-api-key"
   ]
  },
  {
   "cell_type": "code",
   "execution_count": 19,
   "id": "383626b9",
   "metadata": {},
   "outputs": [],
   "source": [
    "from googleapiclient.discovery import build\n",
    "import random\n",
    "import string\n",
    "import matplotlib.pyplot as plt \n",
    "import pandas as pd\n",
    "import re\n",
    "import wordninja\n",
    "import pickle\n",
    "from sklearn.metrics import classification_report, confusion_matrix\n",
    "from sklearn.model_selection import train_test_split\n",
    "from sklearn import svm\n",
    "from sklearn.feature_extraction.text import TfidfVectorizer\n",
    "\n",
    "f = open(\"api_key.txt\", \"r\")\n",
    "api_key = f.read()\n",
    "youtube = build('youtube', 'v3', developerKey=api_key)"
   ]
  },
  {
   "cell_type": "markdown",
   "id": "57452346",
   "metadata": {},
   "source": [
    "### Getting Data"
   ]
  },
  {
   "cell_type": "code",
   "execution_count": 7,
   "id": "48a5e63e",
   "metadata": {},
   "outputs": [],
   "source": [
    "def get_video_comments(video_id):\n",
    "    # empty list to hold comment text\n",
    "    comments = []\n",
    "    \n",
    "    # retrieve first 100 comments data\n",
    "    video_response = youtube.commentThreads().list(\n",
    "    part='snippet, replies',\n",
    "    videoId=video_id,\n",
    "    textFormat='plainText',\n",
    "    maxResults=100).execute()\n",
    "    \n",
    "    # iterate video response\n",
    "    while video_response:\n",
    "        for item in video_response['items']:\n",
    "            #extract comment\n",
    "            comment = item['snippet']['topLevelComment']['snippet']['textDisplay']\n",
    "            comments.append(comment)\n",
    "            \n",
    "            # working on replies\n",
    "            reply_number = item['snippet']['totalReplyCount']\n",
    "            if reply_number > 0:\n",
    "                if 'replies' in item:\n",
    "                    for reply in item['replies']['comments']:\n",
    "                        comment = reply['snippet']['textDisplay']\n",
    "                        comments.append(comment)\n",
    "                        \n",
    "        # get the next 100 comments\n",
    "        if 'nextPageToken' in video_response:\n",
    "            video_response = youtube.commentThreads().list(\n",
    "                part='snippet, replies',\n",
    "                videoId=video_id,\n",
    "                textFormat='plainText',\n",
    "                pageToken=video_response['nextPageToken'],\n",
    "                maxResults=100).execute()\n",
    "        else:\n",
    "            break\n",
    "    return comments\n",
    "\n",
    "def get_comments_from_videos(video_ids_list, max_per_video=200):\n",
    "    all_comments = []\n",
    "    for video_id in video_ids_list:\n",
    "        comments = get_video_comments(video_id)\n",
    "        comments = random.sample(comments, min(max_per_video, len(comments)))\n",
    "        all_comments.extend(comments)\n",
    "    df = pd.DataFrame(all_comments, columns = [\"comment\"])\n",
    "    df.to_csv(\"comments.csv\", index=False)"
   ]
  },
  {
   "cell_type": "code",
   "execution_count": 8,
   "id": "6429d3de",
   "metadata": {},
   "outputs": [],
   "source": [
    "videos = [\n",
    "    'lDKy8S1QTyM', # Graham Stephan\n",
    "    'Bi2m3egJWGc', # Andrei Jikh\n",
    "    'YZxeQ7xiOyU', # Nate O'Brien\n",
    "    'uLgh91wO86Y', # Biaheza\n",
    "    'Ui5r9wRFL2M', # Tech Lead\n",
    "    '0y4NkoI4lYw', # Altcoin Daily\n",
    "]\n",
    "# get_comments_from_videos(videos)"
   ]
  },
  {
   "cell_type": "markdown",
   "id": "38bca800",
   "metadata": {},
   "source": [
    "### Clean Comment"
   ]
  },
  {
   "cell_type": "markdown",
   "id": "f5a5a8ec",
   "metadata": {},
   "source": [
    "First, I went into the CSV file and added a column called \"Label\". I labelled each scam comment as 1 and normal as 0."
   ]
  },
  {
   "cell_type": "code",
   "execution_count": null,
   "id": "6a3750d7",
   "metadata": {},
   "outputs": [],
   "source": [
    "df = pd.read_csv(\"comments.csv\")\n",
    "df[\"clean_comment\"] = df[\"comment\"].apply(lambda s: re.sub(r'[^A-Za-z0-9 ]+', '', s))\n",
    "df[\"clean_comment\"] = df[\"clean_comment\"].apply(lambda s: ' '.join(wordninja.split(s)))\n",
    "df = df.drop_duplicates(subset=\"clean_comment\")\n",
    "df.to_csv(\"comment_dataset.csv\", index=False)"
   ]
  },
  {
   "cell_type": "code",
   "execution_count": 26,
   "id": "6093f189",
   "metadata": {},
   "outputs": [],
   "source": [
    "df2 = pd.read_csv(\"comment_dataset.csv\")"
   ]
  },
  {
   "cell_type": "code",
   "execution_count": 27,
   "id": "7e576267",
   "metadata": {},
   "outputs": [
    {
     "data": {
      "text/html": [
       "<div>\n",
       "<style scoped>\n",
       "    .dataframe tbody tr th:only-of-type {\n",
       "        vertical-align: middle;\n",
       "    }\n",
       "\n",
       "    .dataframe tbody tr th {\n",
       "        vertical-align: top;\n",
       "    }\n",
       "\n",
       "    .dataframe thead th {\n",
       "        text-align: right;\n",
       "    }\n",
       "</style>\n",
       "<table border=\"1\" class=\"dataframe\">\n",
       "  <thead>\n",
       "    <tr style=\"text-align: right;\">\n",
       "      <th></th>\n",
       "      <th>Comment</th>\n",
       "      <th>Label</th>\n",
       "      <th>clean_comment</th>\n",
       "    </tr>\n",
       "  </thead>\n",
       "  <tbody>\n",
       "    <tr>\n",
       "      <th>0</th>\n",
       "      <td>F.o.r m.o.r.e g.u.i.d.a.n.c.e\\n+.\\n1...-3...-8...</td>\n",
       "      <td>1</td>\n",
       "      <td>For more guidance 13857774398 WHAT S APP Thank...</td>\n",
       "    </tr>\n",
       "    <tr>\n",
       "      <th>1</th>\n",
       "      <td>•T•h•a•n•k•s f•o•r w*a•t•c•h•I•n•g• •f•o•r c•r...</td>\n",
       "      <td>1</td>\n",
       "      <td>Thanks for watchIng for crypto investment guid...</td>\n",
       "    </tr>\n",
       "    <tr>\n",
       "      <th>2</th>\n",
       "      <td>Text on telegram</td>\n",
       "      <td>1</td>\n",
       "      <td>Text on telegram</td>\n",
       "    </tr>\n",
       "    <tr>\n",
       "      <th>3</th>\n",
       "      <td>*Thanks for the feedback~ ~for more Info.*\\n*•...</td>\n",
       "      <td>1</td>\n",
       "      <td>Thanks for the feedback for more Info WHAT SAP...</td>\n",
       "    </tr>\n",
       "    <tr>\n",
       "      <th>4</th>\n",
       "      <td>T.h.a.n.k.s  f.o.r w.a.t.c.h.i.n.g \\nF.o.r m.o...</td>\n",
       "      <td>1</td>\n",
       "      <td>Thanks for watching For more guidance Write me...</td>\n",
       "    </tr>\n",
       "    <tr>\n",
       "      <th>...</th>\n",
       "      <td>...</td>\n",
       "      <td>...</td>\n",
       "      <td>...</td>\n",
       "    </tr>\n",
       "    <tr>\n",
       "      <th>383</th>\n",
       "      <td>@TechLead Thank you for your reply! Congrats o...</td>\n",
       "      <td>0</td>\n",
       "      <td>Tech Lead Thank you for your reply Congrats on...</td>\n",
       "    </tr>\n",
       "    <tr>\n",
       "      <th>384</th>\n",
       "      <td>*blocks football conference to hide insider tr...</td>\n",
       "      <td>0</td>\n",
       "      <td>blocks football conference to hide insider tra...</td>\n",
       "    </tr>\n",
       "    <tr>\n",
       "      <th>385</th>\n",
       "      <td>but when you die none of it will matter, we al...</td>\n",
       "      <td>0</td>\n",
       "      <td>but when you die none of it will matter we all...</td>\n",
       "    </tr>\n",
       "    <tr>\n",
       "      <th>386</th>\n",
       "      <td>If you like government regulation and involvem...</td>\n",
       "      <td>0</td>\n",
       "      <td>If you like government regulation and involvem...</td>\n",
       "    </tr>\n",
       "    <tr>\n",
       "      <th>387</th>\n",
       "      <td>is she a psychopath ??? maybe ? weirdo</td>\n",
       "      <td>0</td>\n",
       "      <td>is she a psychopath maybe weirdo</td>\n",
       "    </tr>\n",
       "  </tbody>\n",
       "</table>\n",
       "<p>388 rows × 3 columns</p>\n",
       "</div>"
      ],
      "text/plain": [
       "                                               Comment  Label  \\\n",
       "0    F.o.r m.o.r.e g.u.i.d.a.n.c.e\\n+.\\n1...-3...-8...      1   \n",
       "1    •T•h•a•n•k•s f•o•r w*a•t•c•h•I•n•g• •f•o•r c•r...      1   \n",
       "2                                     Text on telegram      1   \n",
       "3    *Thanks for the feedback~ ~for more Info.*\\n*•...      1   \n",
       "4    T.h.a.n.k.s  f.o.r w.a.t.c.h.i.n.g \\nF.o.r m.o...      1   \n",
       "..                                                 ...    ...   \n",
       "383  @TechLead Thank you for your reply! Congrats o...      0   \n",
       "384  *blocks football conference to hide insider tr...      0   \n",
       "385  but when you die none of it will matter, we al...      0   \n",
       "386  If you like government regulation and involvem...      0   \n",
       "387             is she a psychopath ??? maybe ? weirdo      0   \n",
       "\n",
       "                                         clean_comment  \n",
       "0    For more guidance 13857774398 WHAT S APP Thank...  \n",
       "1    Thanks for watchIng for crypto investment guid...  \n",
       "2                                     Text on telegram  \n",
       "3    Thanks for the feedback for more Info WHAT SAP...  \n",
       "4    Thanks for watching For more guidance Write me...  \n",
       "..                                                 ...  \n",
       "383  Tech Lead Thank you for your reply Congrats on...  \n",
       "384  blocks football conference to hide insider tra...  \n",
       "385  but when you die none of it will matter we all...  \n",
       "386  If you like government regulation and involvem...  \n",
       "387                   is she a psychopath maybe weirdo  \n",
       "\n",
       "[388 rows x 3 columns]"
      ]
     },
     "execution_count": 27,
     "metadata": {},
     "output_type": "execute_result"
    }
   ],
   "source": [
    "df2"
   ]
  },
  {
   "cell_type": "code",
   "execution_count": 28,
   "id": "f28b267d",
   "metadata": {},
   "outputs": [],
   "source": [
    "def edit_comment(comment):\n",
    "    return comment.lower()"
   ]
  },
  {
   "cell_type": "code",
   "execution_count": 29,
   "id": "fcf45acc",
   "metadata": {},
   "outputs": [],
   "source": [
    "df2['clean_comment'] = df2['clean_comment'].apply(edit_comment)"
   ]
  },
  {
   "cell_type": "markdown",
   "id": "00a8d053",
   "metadata": {},
   "source": [
    "### NLP"
   ]
  },
  {
   "cell_type": "code",
   "execution_count": 48,
   "id": "4af146ac",
   "metadata": {},
   "outputs": [],
   "source": [
    "X_train, X_test, y_train, y_test = train_test_split(df2['clean_comment'], df2['Label'], test_size = 0.01, random_state = 1)\n",
    "vectorizer = TfidfVectorizer()\n",
    "X_train = vectorizer.fit_transform(X_train)\n",
    "\n",
    "# save vectorizer file\n",
    "pickle.dump(vectorizer, open(\"vectorizer\", 'wb'))"
   ]
  },
  {
   "cell_type": "code",
   "execution_count": 49,
   "id": "2b8b2254",
   "metadata": {},
   "outputs": [],
   "source": [
    "# train model on data\n",
    "svm_model = svm.SVC(C=1000)\n",
    "svm_model.fit(X_train, y_train)\n",
    "\n",
    "# save ML model\n",
    "pickle.dump(svm_model, open(\"scam_model\", 'wb'))"
   ]
  },
  {
   "cell_type": "code",
   "execution_count": 50,
   "id": "98f31b5b",
   "metadata": {},
   "outputs": [
    {
     "name": "stdout",
     "output_type": "stream",
     "text": [
      "[[1 0]\n",
      " [0 3]]\n"
     ]
    }
   ],
   "source": [
    "X_test = vectorizer.transform(X_test)\n",
    "y_pred = svm_model.predict(X_test)\n",
    "print(confusion_matrix(y_test, y_pred))"
   ]
  },
  {
   "cell_type": "markdown",
   "id": "77e6821e",
   "metadata": {},
   "source": [
    "### Classification"
   ]
  },
  {
   "cell_type": "code",
   "execution_count": 36,
   "id": "8874f0cb",
   "metadata": {},
   "outputs": [],
   "source": [
    "def is_scam(comment):\n",
    "    # load model and vectorizer\n",
    "    svm_model = pickle.load(open(\"scam_model\", 'rb'))\n",
    "    vectorizer = pickle.load(open(\"vectorizer\", 'rb'))\n",
    "    \n",
    "    # clean comment\n",
    "    clean_comment = re.sub(r'[^A-Za-z0-9 ]+', '', comment)\n",
    "    clean_comment = ' '.join(wordninja.split(clean_comment))\n",
    "    clean_comment = edit_comment(clean_comment)\n",
    "    \n",
    "    # transform using vectorizer\n",
    "    comment_transformed = vectorizer.transform([clean_comment])\n",
    "    \n",
    "    # generate prediction\n",
    "    pred = svm_model.predict(comment_transformed)\n",
    "    return pred[0] == 1"
   ]
  },
  {
   "cell_type": "code",
   "execution_count": 45,
   "id": "600970db",
   "metadata": {},
   "outputs": [],
   "source": [
    "df2[\"pred\"] = df2[\"comment\"].apply(is_scam)\n",
    "incorrect = df2.loc[df2[\"pred\"] != df2[\"Label\"]]"
   ]
  },
  {
   "cell_type": "code",
   "execution_count": 46,
   "id": "40dcdfa6",
   "metadata": {},
   "outputs": [
    {
     "data": {
      "text/html": [
       "<div>\n",
       "<style scoped>\n",
       "    .dataframe tbody tr th:only-of-type {\n",
       "        vertical-align: middle;\n",
       "    }\n",
       "\n",
       "    .dataframe tbody tr th {\n",
       "        vertical-align: top;\n",
       "    }\n",
       "\n",
       "    .dataframe thead th {\n",
       "        text-align: right;\n",
       "    }\n",
       "</style>\n",
       "<table border=\"1\" class=\"dataframe\">\n",
       "  <thead>\n",
       "    <tr style=\"text-align: right;\">\n",
       "      <th></th>\n",
       "      <th>Comment</th>\n",
       "      <th>Label</th>\n",
       "      <th>clean_comment</th>\n",
       "      <th>pred</th>\n",
       "    </tr>\n",
       "  </thead>\n",
       "  <tbody>\n",
       "    <tr>\n",
       "      <th>18</th>\n",
       "      <td>T•E•L•E•G•R•A•M\\n\\n@channel_Rep✓.</td>\n",
       "      <td>1</td>\n",
       "      <td>telegram channel rep</td>\n",
       "      <td>False</td>\n",
       "    </tr>\n",
       "    <tr>\n",
       "      <th>54</th>\n",
       "      <td>.+/ 1/ 7/ 6/ 0/ 8/ 3/ 6/ 6/ 5/ 8/ 6\\n..,</td>\n",
       "      <td>1</td>\n",
       "      <td>1 7 6 0 8 3 6 6 5 8 6</td>\n",
       "      <td>False</td>\n",
       "    </tr>\n",
       "    <tr>\n",
       "      <th>65</th>\n",
       "      <td>I REALLY APPRECIATE YOUR SERVICES HACKERRAID O...</td>\n",
       "      <td>1</td>\n",
       "      <td>i really appreciate your services hacker raid ...</td>\n",
       "      <td>False</td>\n",
       "    </tr>\n",
       "    <tr>\n",
       "      <th>67</th>\n",
       "      <td>@misskerry \\rI worked with Alisan P Martin, Sh...</td>\n",
       "      <td>1</td>\n",
       "      <td>miss kerry i worked with al is an p martin she...</td>\n",
       "      <td>False</td>\n",
       "    </tr>\n",
       "  </tbody>\n",
       "</table>\n",
       "</div>"
      ],
      "text/plain": [
       "                                              Comment  Label  \\\n",
       "18                  T•E•L•E•G•R•A•M\\n\\n@channel_Rep✓.      1   \n",
       "54           .+/ 1/ 7/ 6/ 0/ 8/ 3/ 6/ 6/ 5/ 8/ 6\\n..,      1   \n",
       "65  I REALLY APPRECIATE YOUR SERVICES HACKERRAID O...      1   \n",
       "67  @misskerry \\rI worked with Alisan P Martin, Sh...      1   \n",
       "\n",
       "                                        clean_comment   pred  \n",
       "18                               telegram channel rep  False  \n",
       "54                              1 7 6 0 8 3 6 6 5 8 6  False  \n",
       "65  i really appreciate your services hacker raid ...  False  \n",
       "67  miss kerry i worked with al is an p martin she...  False  "
      ]
     },
     "execution_count": 46,
     "metadata": {},
     "output_type": "execute_result"
    }
   ],
   "source": [
    "incorrect"
   ]
  }
 ],
 "metadata": {
  "kernelspec": {
   "display_name": "Python 3",
   "language": "python",
   "name": "python3"
  },
  "language_info": {
   "codemirror_mode": {
    "name": "ipython",
    "version": 3
   },
   "file_extension": ".py",
   "mimetype": "text/x-python",
   "name": "python",
   "nbconvert_exporter": "python",
   "pygments_lexer": "ipython3",
   "version": "3.9.5"
  }
 },
 "nbformat": 4,
 "nbformat_minor": 5
}
